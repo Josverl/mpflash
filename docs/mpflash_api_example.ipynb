{
 "cells": [
  {
   "cell_type": "code",
   "execution_count": 1,
   "metadata": {},
   "outputs": [],
   "source": [
    "import mpflash\n",
    "import logging\n",
    "\n",
    "from mpflash.logger import log, set_loglevel\n",
    "\n",
    "set_loglevel(\"INFO\")"
   ]
  },
  {
   "cell_type": "markdown",
   "metadata": {},
   "source": [
    "## List the connected MCUs.\n",
    "\n",
    "This will use filters to avoid listing bluetooth devices across the various platforms\n",
    "\n"
   ]
  },
  {
   "cell_type": "code",
   "execution_count": 7,
   "metadata": {},
   "outputs": [
    {
     "data": {
      "application/vnd.jupyter.widget-view+json": {
       "model_id": "cc11fcaec5184cdd85a7c961d2b0cdcb",
       "version_major": 2,
       "version_minor": 0
      },
      "text/plain": [
       "Output()"
      ]
     },
     "metadata": {},
     "output_type": "display_data"
    },
    {
     "data": {
      "text/html": [
       "<pre style=\"white-space:pre;overflow-x:auto;line-height:normal;font-family:Menlo,'DejaVu Sans Mono',consolas,'Courier New',monospace\"></pre>\n"
      ],
      "text/plain": []
     },
     "metadata": {},
     "output_type": "display_data"
    },
    {
     "name": "stdout",
     "output_type": "stream",
     "text": [
      "Connected boards:\n",
      "  RPI_PICO_W: COM17\n",
      "  PYBV11: COM24\n"
     ]
    }
   ],
   "source": [
    "from mpflash.connected import list_mcus\n",
    "from mpflash.list import show_mcus\n",
    "\n",
    "\n",
    "# scan boards and just work with the ones that respond with understandable data\n",
    "connected_mcus = list_mcus(ignore=[], include=[], bluetooth=False)\n",
    "print(\"Connected boards:\")\n",
    "for mcu in connected_mcus:\n",
    "    print(f\"  {mcu.board}: {mcu.serialport}\")\n"
   ]
  },
  {
   "cell_type": "code",
   "execution_count": 8,
   "metadata": {},
   "outputs": [
    {
     "data": {
      "application/vnd.jupyter.widget-view+json": {
       "model_id": "2600a7df0f5a42048ae90582f7fcc8ee",
       "version_major": 2,
       "version_minor": 0
      },
      "text/plain": [
       "Output()"
      ]
     },
     "metadata": {},
     "output_type": "display_data"
    },
    {
     "data": {
      "text/html": [
       "<pre style=\"white-space:pre;overflow-x:auto;line-height:normal;font-family:Menlo,'DejaVu Sans Mono',consolas,'Courier New',monospace\"></pre>\n"
      ],
      "text/plain": []
     },
     "metadata": {},
     "output_type": "display_data"
    },
    {
     "data": {
      "text/html": [
       "<pre style=\"white-space:pre;overflow-x:auto;line-height:normal;font-family:Menlo,'DejaVu Sans Mono',consolas,'Courier New',monospace\"><span style=\"color: #800080; text-decoration-color: #800080\">                                           Connected boards                                           </span>\n",
       "┏━━━━━━┳━━━━━━━━━━━┳━━━━━┳━━━━━━━━━━━━━━━━━━━━━━━━━━━━━━━┳━━━━━━━━━┳━━━━━━━━━━━┳━━━━━━━━━━━━━━━┳━━━━━┓\n",
       "┃<span style=\"color: #800080; text-decoration-color: #800080; font-weight: bold\">Serial</span>┃<span style=\"color: #800080; text-decoration-color: #800080; font-weight: bold\">Family     </span>┃<span style=\"color: #800080; text-decoration-color: #800080; font-weight: bold\">Port </span>┃<span style=\"color: #800080; text-decoration-color: #800080; font-weight: bold\">Board                          </span>┃<span style=\"color: #800080; text-decoration-color: #800080; font-weight: bold\">Variant  </span>┃<span style=\"color: #800080; text-decoration-color: #800080; font-weight: bold\">CPU        </span>┃<span style=\"color: #800080; text-decoration-color: #800080; font-weight: bold\">Version        </span>┃<span style=\"color: #800080; text-decoration-color: #800080; font-weight: bold\">Build</span>┃\n",
       "┡━━━━━━╇━━━━━━━━━━━╇━━━━━╇━━━━━━━━━━━━━━━━━━━━━━━━━━━━━━━╇━━━━━━━━━╇━━━━━━━━━━━╇━━━━━━━━━━━━━━━╇━━━━━┩\n",
       "│COM17 │micropython│rp2  │RPI_PICO_W                     │         │RP2040     │v1.25.0-preview│  389│\n",
       "│      │           │     │<span style=\"color: #00ffff; text-decoration-color: #00ffff; font-style: italic\">Raspberry Pi Pico W with RP2040</span>│         │           │               │     │\n",
       "│COM24 │micropython│stm32│PYBV11                         │DP_THREAD│STM32F405RG│v1.25.0-preview│  389│\n",
       "│      │           │     │<span style=\"color: #00ffff; text-decoration-color: #00ffff; font-style: italic\">PYBv1.1 with STM32F405RG</span>       │         │           │               │     │\n",
       "│      │           │     │<span style=\"color: #00ff00; text-decoration-color: #00ff00; font-style: italic\">Blue Norwegian feeder</span>          │         │           │               │     │\n",
       "└──────┴───────────┴─────┴───────────────────────────────┴─────────┴───────────┴───────────────┴─────┘\n",
       "</pre>\n"
      ],
      "text/plain": [
       "\u001b[35m                                           Connected boards                                           \u001b[0m\n",
       "┏━━━━━━┳━━━━━━━━━━━┳━━━━━┳━━━━━━━━━━━━━━━━━━━━━━━━━━━━━━━┳━━━━━━━━━┳━━━━━━━━━━━┳━━━━━━━━━━━━━━━┳━━━━━┓\n",
       "┃\u001b[1;35mSerial\u001b[0m┃\u001b[1;35mFamily     \u001b[0m┃\u001b[1;35mPort \u001b[0m┃\u001b[1;35mBoard                          \u001b[0m┃\u001b[1;35mVariant  \u001b[0m┃\u001b[1;35mCPU        \u001b[0m┃\u001b[1;35mVersion        \u001b[0m┃\u001b[1;35mBuild\u001b[0m┃\n",
       "┡━━━━━━╇━━━━━━━━━━━╇━━━━━╇━━━━━━━━━━━━━━━━━━━━━━━━━━━━━━━╇━━━━━━━━━╇━━━━━━━━━━━╇━━━━━━━━━━━━━━━╇━━━━━┩\n",
       "│COM17 │micropython│rp2  │RPI_PICO_W                     │         │RP2040     │v1.25.0-preview│  389│\n",
       "│      │           │     │\u001b[3;96mRaspberry Pi Pico W with RP2040\u001b[0m│         │           │               │     │\n",
       "│COM24 │micropython│stm32│PYBV11                         │DP_THREAD│STM32F405RG│v1.25.0-preview│  389│\n",
       "│      │           │     │\u001b[3;96mPYBv1.1 with STM32F405RG\u001b[0m       │         │           │               │     │\n",
       "│      │           │     │\u001b[3;92mBlue Norwegian feeder\u001b[0m          │         │           │               │     │\n",
       "└──────┴───────────┴─────┴───────────────────────────────┴─────────┴───────────┴───────────────┴─────┘\n"
      ]
     },
     "metadata": {},
     "output_type": "display_data"
    }
   ],
   "source": [
    "import re\n",
    "show_mcus(connected_mcus,refresh=True)"
   ]
  },
  {
   "cell_type": "code",
   "execution_count": 9,
   "metadata": {},
   "outputs": [
    {
     "data": {
      "text/html": [
       "<pre style=\"white-space:pre;overflow-x:auto;line-height:normal;font-family:Menlo,'DejaVu Sans Mono',consolas,'Courier New',monospace\"><span style=\"color: #008000; text-decoration-color: #008000\">17:18:22</span> | ℹ️ <span style=\"font-weight: bold\">ls :</span>\n",
       "</pre>\n"
      ],
      "text/plain": [
       "\u001b[32m17:18:22\u001b[0m | ℹ️ \u001b[1mls :\u001b[0m\n"
      ]
     },
     "metadata": {},
     "output_type": "display_data"
    },
    {
     "name": "stdout",
     "output_type": "stream",
     "text": [
      "MPRemoteBoard(COM17, micropython rp2, RPI_PICO_W, 1.25.0-preview): \n",
      " - RPI_PICO_W: COM17 -> (0, ['ls :\\n'])\n"
     ]
    },
    {
     "data": {
      "text/html": [
       "<pre style=\"white-space:pre;overflow-x:auto;line-height:normal;font-family:Menlo,'DejaVu Sans Mono',consolas,'Courier New',monospace\"><span style=\"color: #008000; text-decoration-color: #008000\">17:18:22</span> | ℹ️ <span style=\"font-weight: bold\">ls :</span>\n",
       "</pre>\n"
      ],
      "text/plain": [
       "\u001b[32m17:18:22\u001b[0m | ℹ️ \u001b[1mls :\u001b[0m\n"
      ]
     },
     "metadata": {},
     "output_type": "display_data"
    },
    {
     "data": {
      "text/html": [
       "<pre style=\"white-space:pre;overflow-x:auto;line-height:normal;font-family:Menlo,'DejaVu Sans Mono',consolas,'Courier New',monospace\"><span style=\"color: #008000; text-decoration-color: #008000\">17:18:22</span> | ℹ️ <span style=\"font-weight: bold\">          </span><span style=\"color: #008080; text-decoration-color: #008080; font-weight: bold\">14</span><span style=\"font-weight: bold\"> foo.txt</span>\n",
       "</pre>\n"
      ],
      "text/plain": [
       "\u001b[32m17:18:22\u001b[0m | ℹ️ \u001b[1m          \u001b[0m\u001b[1;36m14\u001b[0m\u001b[1m foo.txt\u001b[0m\n"
      ]
     },
     "metadata": {},
     "output_type": "display_data"
    },
    {
     "data": {
      "text/html": [
       "<pre style=\"white-space:pre;overflow-x:auto;line-height:normal;font-family:Menlo,'DejaVu Sans Mono',consolas,'Courier New',monospace\"><span style=\"color: #008000; text-decoration-color: #008000\">17:18:22</span> | ℹ️ <span style=\"font-weight: bold\">           </span><span style=\"color: #008080; text-decoration-color: #008080; font-weight: bold\">0</span><span style=\"font-weight: bold\"> folder_1/</span>\n",
       "</pre>\n"
      ],
      "text/plain": [
       "\u001b[32m17:18:22\u001b[0m | ℹ️ \u001b[1m           \u001b[0m\u001b[1;36m0\u001b[0m\u001b[1m folder_1/\u001b[0m\n"
      ]
     },
     "metadata": {},
     "output_type": "display_data"
    },
    {
     "data": {
      "text/html": [
       "<pre style=\"white-space:pre;overflow-x:auto;line-height:normal;font-family:Menlo,'DejaVu Sans Mono',consolas,'Courier New',monospace\"><span style=\"color: #008000; text-decoration-color: #008000\">17:18:22</span> | ℹ️ <span style=\"font-weight: bold\">           </span><span style=\"color: #008080; text-decoration-color: #008080; font-weight: bold\">0</span><span style=\"font-weight: bold\"> p1_meter/</span>\n",
       "</pre>\n"
      ],
      "text/plain": [
       "\u001b[32m17:18:22\u001b[0m | ℹ️ \u001b[1m           \u001b[0m\u001b[1;36m0\u001b[0m\u001b[1m p1_meter/\u001b[0m\n"
      ]
     },
     "metadata": {},
     "output_type": "display_data"
    },
    {
     "data": {
      "text/html": [
       "<pre style=\"white-space:pre;overflow-x:auto;line-height:normal;font-family:Menlo,'DejaVu Sans Mono',consolas,'Courier New',monospace\"><span style=\"color: #008000; text-decoration-color: #008000\">17:18:22</span> | ℹ️ <span style=\"font-weight: bold\">           </span><span style=\"color: #008080; text-decoration-color: #008080; font-weight: bold\">0</span><span style=\"font-weight: bold\"> lib/</span>\n",
       "</pre>\n"
      ],
      "text/plain": [
       "\u001b[32m17:18:22\u001b[0m | ℹ️ \u001b[1m           \u001b[0m\u001b[1;36m0\u001b[0m\u001b[1m lib/\u001b[0m\n"
      ]
     },
     "metadata": {},
     "output_type": "display_data"
    },
    {
     "data": {
      "text/html": [
       "<pre style=\"white-space:pre;overflow-x:auto;line-height:normal;font-family:Menlo,'DejaVu Sans Mono',consolas,'Courier New',monospace\"><span style=\"color: #008000; text-decoration-color: #008000\">17:18:22</span> | ℹ️ <span style=\"font-weight: bold\">         </span><span style=\"color: #008080; text-decoration-color: #008080; font-weight: bold\">628</span><span style=\"font-weight: bold\"> test.py</span>\n",
       "</pre>\n"
      ],
      "text/plain": [
       "\u001b[32m17:18:22\u001b[0m | ℹ️ \u001b[1m         \u001b[0m\u001b[1;36m628\u001b[0m\u001b[1m test.py\u001b[0m\n"
      ]
     },
     "metadata": {},
     "output_type": "display_data"
    },
    {
     "data": {
      "text/html": [
       "<pre style=\"white-space:pre;overflow-x:auto;line-height:normal;font-family:Menlo,'DejaVu Sans Mono',consolas,'Courier New',monospace\"><span style=\"color: #008000; text-decoration-color: #008000\">17:18:22</span> | ℹ️ <span style=\"font-weight: bold\">         </span><span style=\"color: #008080; text-decoration-color: #008080; font-weight: bold\">104</span><span style=\"font-weight: bold\"> board_info.toml</span>\n",
       "</pre>\n"
      ],
      "text/plain": [
       "\u001b[32m17:18:22\u001b[0m | ℹ️ \u001b[1m         \u001b[0m\u001b[1;36m104\u001b[0m\u001b[1m board_info.toml\u001b[0m\n"
      ]
     },
     "metadata": {},
     "output_type": "display_data"
    },
    {
     "data": {
      "text/html": [
       "<pre style=\"white-space:pre;overflow-x:auto;line-height:normal;font-family:Menlo,'DejaVu Sans Mono',consolas,'Courier New',monospace\"><span style=\"color: #008000; text-decoration-color: #008000\">17:18:22</span> | ℹ️ <span style=\"font-weight: bold\">           </span><span style=\"color: #008080; text-decoration-color: #008080; font-weight: bold\">0</span><span style=\"font-weight: bold\"> System Volume Information/</span>\n",
       "</pre>\n"
      ],
      "text/plain": [
       "\u001b[32m17:18:22\u001b[0m | ℹ️ \u001b[1m           \u001b[0m\u001b[1;36m0\u001b[0m\u001b[1m System Volume Information/\u001b[0m\n"
      ]
     },
     "metadata": {},
     "output_type": "display_data"
    },
    {
     "data": {
      "text/html": [
       "<pre style=\"white-space:pre;overflow-x:auto;line-height:normal;font-family:Menlo,'DejaVu Sans Mono',consolas,'Courier New',monospace\"><span style=\"color: #008000; text-decoration-color: #008000\">17:18:22</span> | ℹ️ <span style=\"font-weight: bold\">      </span><span style=\"color: #008080; text-decoration-color: #008080; font-weight: bold\">455656</span><span style=\"font-weight: bold\"> MTCPBWY-v1.gcode</span>\n",
       "</pre>\n"
      ],
      "text/plain": [
       "\u001b[32m17:18:22\u001b[0m | ℹ️ \u001b[1m      \u001b[0m\u001b[1;36m455656\u001b[0m\u001b[1m MTCPBWY-v1.gcode\u001b[0m\n"
      ]
     },
     "metadata": {},
     "output_type": "display_data"
    },
    {
     "name": "stdout",
     "output_type": "stream",
     "text": [
      "MPRemoteBoard(COM24, micropython stm32, PYBV11-DP_THREAD, 1.25.0-preview): \n",
      " - PYBV11: COM24 -> (0, ['ls :\\n', '          14 foo.txt\\n', '           0 folder_1/\\n', '           0 p1_meter/\\n', '           0 lib/\\n', '         628 test.py\\n', '         104 board_info.toml\\n', '           0 System Volume Information/\\n', '      455656 MTCPBWY-v1.gcode\\n'])\n"
     ]
    }
   ],
   "source": [
    "for mcu in connected_mcus:\n",
    "    # run a mpremote command\n",
    "    result = mcu.run_command(\"ls :\")\n",
    "    print(f\"{mcu}: \")\n",
    "    print(f\" - {mcu.board}: {mcu.serialport} -> {result}\"\n",
    "          )"
   ]
  },
  {
   "cell_type": "code",
   "execution_count": 5,
   "metadata": {},
   "outputs": [
    {
     "data": {
      "text/html": [
       "<pre style=\"white-space:pre;overflow-x:auto;line-height:normal;font-family:Menlo,'DejaVu Sans Mono',consolas,'Courier New',monospace\"><span style=\"color: #008000; text-decoration-color: #008000\">17:16:18</span> | ℹ️ <span style=\"font-weight: bold\">Entering bootloader on COM17 using methods [</span><span style=\"color: #008000; text-decoration-color: #008000; font-weight: bold\">'mpy'</span><span style=\"font-weight: bold\">, </span><span style=\"color: #008000; text-decoration-color: #008000; font-weight: bold\">'touch1200'</span><span style=\"font-weight: bold\">, </span><span style=\"color: #008000; text-decoration-color: #008000; font-weight: bold\">'manual'</span><span style=\"font-weight: bold\">]</span>\n",
       "</pre>\n"
      ],
      "text/plain": [
       "\u001b[32m17:16:18\u001b[0m | ℹ️ \u001b[1mEntering bootloader on COM17 using methods \u001b[0m\u001b[1m[\u001b[0m\u001b[1;32m'mpy'\u001b[0m\u001b[1m, \u001b[0m\u001b[1;32m'touch1200'\u001b[0m\u001b[1m, \u001b[0m\u001b[1;32m'manual'\u001b[0m\u001b[1m]\u001b[0m\n"
      ]
     },
     "metadata": {},
     "output_type": "display_data"
    },
    {
     "data": {
      "text/html": [
       "<pre style=\"white-space:pre;overflow-x:auto;line-height:normal;font-family:Menlo,'DejaVu Sans Mono',consolas,'Courier New',monospace\"><span style=\"color: #008000; text-decoration-color: #008000\">17:16:18</span> | ℹ️ <span style=\"font-weight: bold\">Attempting bootloader on COM17 using </span><span style=\"color: #008000; text-decoration-color: #008000; font-weight: bold\">'mpremote bootloader'</span>\n",
       "</pre>\n"
      ],
      "text/plain": [
       "\u001b[32m17:16:18\u001b[0m | ℹ️ \u001b[1mAttempting bootloader on COM17 using \u001b[0m\u001b[1;32m'mpremote bootloader'\u001b[0m\n"
      ]
     },
     "metadata": {},
     "output_type": "display_data"
    },
    {
     "data": {
      "application/vnd.jupyter.widget-view+json": {
       "model_id": "5c0d9dcb6e0640a4ab55898ff2c692f2",
       "version_major": 2,
       "version_minor": 0
      },
      "text/plain": [
       "Output()"
      ]
     },
     "metadata": {},
     "output_type": "display_data"
    },
    {
     "data": {
      "text/html": [
       "<pre style=\"white-space:pre;overflow-x:auto;line-height:normal;font-family:Menlo,'DejaVu Sans Mono',consolas,'Courier New',monospace\"></pre>\n"
      ],
      "text/plain": []
     },
     "metadata": {},
     "output_type": "display_data"
    },
    {
     "data": {
      "application/vnd.jupyter.widget-view+json": {
       "model_id": "b6f71dd54f3f44d28367ecd30421713e",
       "version_major": 2,
       "version_minor": 0
      },
      "text/plain": [
       "Output()"
      ]
     },
     "metadata": {},
     "output_type": "display_data"
    },
    {
     "data": {
      "text/html": [
       "<pre style=\"white-space:pre;overflow-x:auto;line-height:normal;font-family:Menlo,'DejaVu Sans Mono',consolas,'Courier New',monospace\"></pre>\n"
      ],
      "text/plain": []
     },
     "metadata": {},
     "output_type": "display_data"
    },
    {
     "data": {
      "text/html": [
       "<pre style=\"white-space:pre;overflow-x:auto;line-height:normal;font-family:Menlo,'DejaVu Sans Mono',consolas,'Courier New',monospace\"><span style=\"color: #008000; text-decoration-color: #008000\">17:16:21</span> | ℹ️ <span style=\"font-weight: bold\">Board is in bootloader mode</span>\n",
       "</pre>\n"
      ],
      "text/plain": [
       "\u001b[32m17:16:21\u001b[0m | ℹ️ \u001b[1mBoard is in bootloader mode\u001b[0m\n"
      ]
     },
     "metadata": {},
     "output_type": "display_data"
    },
    {
     "data": {
      "text/html": [
       "<pre style=\"white-space:pre;overflow-x:auto;line-height:normal;font-family:Menlo,'DejaVu Sans Mono',consolas,'Courier New',monospace\"><span style=\"color: #008000; text-decoration-color: #008000\">17:16:21</span> | ℹ️ <span style=\"font-weight: bold\">Board ID: RPI-RP2</span>\n",
       "</pre>\n"
      ],
      "text/plain": [
       "\u001b[32m17:16:21\u001b[0m | ℹ️ \u001b[1mBoard ID: RPI-RP2\u001b[0m\n"
      ]
     },
     "metadata": {},
     "output_type": "display_data"
    },
    {
     "data": {
      "text/html": [
       "<pre style=\"white-space:pre;overflow-x:auto;line-height:normal;font-family:Menlo,'DejaVu Sans Mono',consolas,'Courier New',monospace\"><span style=\"color: #008000; text-decoration-color: #008000\">17:16:21</span> | ℹ️ <span style=\"font-weight: bold\">Copying RPI_PICO_W-v1.</span><span style=\"color: #008080; text-decoration-color: #008080; font-weight: bold\">25.0</span><span style=\"font-weight: bold\">-preview.</span><span style=\"color: #008080; text-decoration-color: #008080; font-weight: bold\">389.</span><span style=\"font-weight: bold\">uf2 to G:\\.</span>\n",
       "</pre>\n"
      ],
      "text/plain": [
       "\u001b[32m17:16:21\u001b[0m | ℹ️ \u001b[1mCopying RPI_PICO_W-v1.\u001b[0m\u001b[1;36m25.0\u001b[0m\u001b[1m-preview.\u001b[0m\u001b[1;36m389.\u001b[0m\u001b[1muf2 to G:\\.\u001b[0m\n"
      ]
     },
     "metadata": {},
     "output_type": "display_data"
    },
    {
     "data": {
      "text/html": [
       "<pre style=\"white-space:pre;overflow-x:auto;line-height:normal;font-family:Menlo,'DejaVu Sans Mono',consolas,'Courier New',monospace\"><span style=\"color: #008000; text-decoration-color: #008000\">17:16:32</span> | ✅ <span style=\"color: #008000; text-decoration-color: #008000; font-weight: bold\">Done copying, resetting the board.</span>\n",
       "</pre>\n"
      ],
      "text/plain": [
       "\u001b[32m17:16:32\u001b[0m | ✅ \u001b[1;32mDone copying, resetting the board.\u001b[0m\n"
      ]
     },
     "metadata": {},
     "output_type": "display_data"
    },
    {
     "data": {
      "application/vnd.jupyter.widget-view+json": {
       "model_id": "3b0db9f660cc44e389489d136e2d3b5e",
       "version_major": 2,
       "version_minor": 0
      },
      "text/plain": [
       "Output()"
      ]
     },
     "metadata": {},
     "output_type": "display_data"
    },
    {
     "data": {
      "text/html": [
       "<pre style=\"white-space:pre;overflow-x:auto;line-height:normal;font-family:Menlo,'DejaVu Sans Mono',consolas,'Courier New',monospace\"></pre>\n"
      ],
      "text/plain": []
     },
     "metadata": {},
     "output_type": "display_data"
    },
    {
     "name": "stdout",
     "output_type": "stream",
     "text": [
      "  RPI_PICO_W: COM17 -> MPRemoteBoard(COM17, micropython rp2, RPI_PICO_W, 1.25.0-preview)\n"
     ]
    }
   ],
   "source": [
    "from pathlib import Path\n",
    "from turtle import up\n",
    "from mpflash.flash import flash_mcu\n",
    "from mpflash.common import PORT_FWTYPES, BootloaderMethod\n",
    "\n",
    "# flash the first connected mcu\n",
    "mcu = connected_mcus[0]\n",
    "firmware_bin=Path(\"C:\\\\Users\\\\josverl\\\\Downloads\\\\firmware\\\\rp2\\\\RPI_PICO_W-v1.25.0-preview.389.uf2\")\n",
    "# flash the mcu\n",
    "updated = flash_mcu(mcu, fw_file=firmware_bin)\n",
    "\n",
    "if updated :\n",
    "    updated.get_mcu_info()\n",
    "    print(f\"  {mcu.board}: {mcu.serialport} -> {mcu}\")\n"
   ]
  },
  {
   "cell_type": "code",
   "execution_count": 6,
   "metadata": {},
   "outputs": [
    {
     "name": "stdout",
     "output_type": "stream",
     "text": [
      "  RPI_PICO_W: COM17 -> MPRemoteBoard(COM17, micropython rp2, RPI_PICO_W, 1.25.0-preview)\n"
     ]
    }
   ],
   "source": [
    "print(f\"  {mcu.board}: {mcu.serialport} -> {mcu}\")"
   ]
  }
 ],
 "metadata": {
  "kernelspec": {
   "display_name": ".venv",
   "language": "python",
   "name": "python3"
  },
  "language_info": {
   "codemirror_mode": {
    "name": "ipython",
    "version": 3
   },
   "file_extension": ".py",
   "mimetype": "text/x-python",
   "name": "python",
   "nbconvert_exporter": "python",
   "pygments_lexer": "ipython3",
   "version": "3.11.9"
  }
 },
 "nbformat": 4,
 "nbformat_minor": 2
}
